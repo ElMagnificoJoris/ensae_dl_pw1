{
 "cells": [
  {
   "cell_type": "markdown",
   "id": "17ec8d6a-4218-49b9-a549-0977cec82967",
   "metadata": {
    "id": "MVpsYfWg3z0B"
   },
   "source": [
    "# PW1 - Handwritten character recognition\n"
   ]
  },
  {
   "cell_type": "code",
   "id": "d682452d-e56e-4de8-a420-4418d63790a7",
   "metadata": {
    "ExecuteTime": {
     "end_time": "2025-04-26T09:50:44.973753Z",
     "start_time": "2025-04-26T09:50:44.971544Z"
    }
   },
   "source": [
    "# Write your name here (e.g. \"Edmond Dantès\") so I can grade your work\n",
    "your_name = \"Joris Chenevas-Paule\"\n",
    "assert your_name"
   ],
   "outputs": [],
   "execution_count": 1
  },
  {
   "cell_type": "code",
   "id": "f8538cf7-81e0-481a-8059-be38b611aafb",
   "metadata": {
    "id": "8CcAqNjJ3z0F",
    "ExecuteTime": {
     "end_time": "2025-04-26T09:50:48.007477Z",
     "start_time": "2025-04-26T09:50:45.005932Z"
    }
   },
   "source": [
    "%matplotlib inline\n",
    "import math, sys, os, torch, torchvision\n",
    "from torch import nn\n",
    "import numpy as np\n",
    "import matplotlib.pyplot as plt"
   ],
   "outputs": [],
   "execution_count": 2
  },
  {
   "cell_type": "code",
   "id": "c864b86e-6e6b-4d8a-82c8-6822072a676f",
   "metadata": {
    "id": "3Wxb9pdV3z0F",
    "ExecuteTime": {
     "end_time": "2025-04-26T09:50:48.169747Z",
     "start_time": "2025-04-26T09:50:48.127371Z"
    }
   },
   "source": [
    "device = torch.device(\"cuda:0\" if torch.cuda.is_available() else \"cpu\")\n",
    "print('Using gpu: %s ' % torch.cuda.is_available())"
   ],
   "outputs": [
    {
     "name": "stdout",
     "output_type": "stream",
     "text": [
      "Using gpu: True \n"
     ]
    }
   ],
   "execution_count": 3
  },
  {
   "cell_type": "markdown",
   "id": "aa038da6-b812-4053-9b72-8ff97ceb3b9b",
   "metadata": {
    "id": "1Sjq8zzf3z0G"
   },
   "source": [
    "We will be training many models. Select a number of epochs to train each model. If you are using a slow machine, or if you want to restart training often and have many development iterations, we suggest `NUM_EPOCH = 2`. If you are using a fast machine, or have a GPU available, of if you are confident that you can write accurate code first try, you will get better accuracies by increasing this constant. You could be able to afford up to `NUM_EPOCH = 10`."
   ]
  },
  {
   "cell_type": "code",
   "id": "137adce6-13cc-4ccc-aaf3-42230e322a9b",
   "metadata": {
    "id": "L9CF0H4O3z0G",
    "ExecuteTime": {
     "end_time": "2025-04-26T09:50:49.954051Z",
     "start_time": "2025-04-26T09:50:49.951367Z"
    }
   },
   "source": "NUM_EPOCH = 2",
   "outputs": [],
   "execution_count": 4
  },
  {
   "cell_type": "markdown",
   "id": "6ce850e9-ef4e-4323-af2d-be6b94e98994",
   "metadata": {
    "id": "65e20f5e"
   },
   "source": [
    "# Part A - Linear, MLP, and CNN\n"
   ]
  },
  {
   "cell_type": "markdown",
   "id": "05aff4bd-8b1d-4531-89d8-64ce4e2b6357",
   "metadata": {
    "id": "KSAiV2ov3z0H"
   },
   "source": [
    "## Handwritten digit recognition dataset\n",
    "\n",
    "We will use the MNIST database (Modified National Institute of Standards and Technology database). It contains tens of thousands of pictures of handwritten digits. This database was compiled in 1994, as part of the effort in the 1990s to standardize automation of sorting devices with human input, for instance sorting mail with handwritten postal codes at the post office. This is now often considered one of the first real successes of neural networks, and the first easy example on which performance of new such algorithms is tested."
   ]
  },
  {
   "cell_type": "markdown",
   "id": "3429898a-0f57-4cdf-9aa6-7b1121ee4e53",
   "metadata": {},
   "source": [
    "Load the dataset (train and test splits) using `torchvision`"
   ]
  },
  {
   "cell_type": "code",
   "id": "59e1c523-4b78-492a-b103-2861af8c3d89",
   "metadata": {
    "id": "Zu3hU4dQ3z0H",
    "ExecuteTime": {
     "end_time": "2025-04-26T09:50:52.311991Z",
     "start_time": "2025-04-26T09:50:52.180246Z"
    }
   },
   "source": [
    "root_dir = './data/MNIST/'\n",
    "\n",
    "### YOUR CODE HERE ###\n",
    "trainset = torchvision.datasets.MNIST(root=root_dir, train=True, download=True, transform=torchvision.transforms.ToTensor())\n",
    "testset = torchvision.datasets.MNIST(root=root_dir, train=False, download=True, transform=torchvision.transforms.ToTensor())"
   ],
   "outputs": [],
   "execution_count": 5
  },
  {
   "cell_type": "markdown",
   "id": "d77fbaba-b01f-46d0-a1d7-47c59faaf042",
   "metadata": {},
   "source": [
    "How many examples in each split? \n",
    "\n",
    "Plot the first image and label of the training set using `matplotlib`\n",
    "\n",
    "What is the input dimension?"
   ]
  },
  {
   "cell_type": "code",
   "id": "083f07f4-e129-4e9b-b26e-a32fd4bdb99d",
   "metadata": {
    "id": "9fgMls5P3z0I",
    "scrolled": true,
    "ExecuteTime": {
     "end_time": "2025-04-26T09:50:53.119200Z",
     "start_time": "2025-04-26T09:50:53.114766Z"
    }
   },
   "source": [
    "### YOUR CODE HERE ###\n",
    "print(len(trainset))\n",
    "print(len(testset))"
   ],
   "outputs": [
    {
     "name": "stdout",
     "output_type": "stream",
     "text": [
      "60000\n",
      "10000\n"
     ]
    }
   ],
   "execution_count": 6
  },
  {
   "metadata": {},
   "cell_type": "markdown",
   "source": "There is 10000 examples in each split",
   "id": "1660ed57ab399a65"
  },
  {
   "cell_type": "code",
   "id": "dc2fbd26-b017-435a-822e-ad382eabd8a4",
   "metadata": {
    "ExecuteTime": {
     "end_time": "2025-04-26T09:50:54.329145Z",
     "start_time": "2025-04-26T09:50:54.097911Z"
    }
   },
   "source": [
    "### YOUR CODE HERE ###\n",
    "plt.imshow(trainset[0][0].permute(1, 2, 0))\n",
    "plt.show()"
   ],
   "outputs": [
    {
     "data": {
      "text/plain": [
       "<Figure size 640x480 with 1 Axes>"
      ],
      "image/png": "[encoded data removed]"
     },
     "metadata": {},
     "output_type": "display_data"
    }
   ],
   "execution_count": 7
  },
  {
   "metadata": {
    "ExecuteTime": {
     "end_time": "2025-04-26T09:50:54.838290Z",
     "start_time": "2025-04-26T09:50:54.833477Z"
    }
   },
   "cell_type": "code",
   "source": "print(trainset[0][0].size())",
   "id": "a84016caac125dd9",
   "outputs": [
    {
     "name": "stdout",
     "output_type": "stream",
     "text": [
      "torch.Size([1, 28, 28])\n"
     ]
    }
   ],
   "execution_count": 8
  },
  {
   "metadata": {},
   "cell_type": "markdown",
   "source": "The input dimension is 1x28x28 (we are in black and white)",
   "id": "71e753c78bdfd131"
  },
  {
   "cell_type": "markdown",
   "id": "f6380c03-1427-4dea-974e-5a38621ea6c1",
   "metadata": {
    "id": "Guv5_hY63z0L"
   },
   "source": [
    "# A.1 - Linear features\n",
    "\n",
    "We start with a very simple model, linear with respect to pixel values.\n",
    "Use a `preprocess` function to downsample the image to 7x7 pixels, then flatten it and use a `torch.nn.Linear` model.\n",
    "\n",
    "The torch average-pooling function is `torch.nn.functional.avg_pool2d`, check the documentation to set the arguments properly.\n",
    "DO NOT use your implementation of average-pooling, it would take prohibitively long to train and you would not finish the practical.\n",
    "If the training takes too long, go back to the first section and lower the `NUM_EPOCH` constant."
   ]
  },
  {
   "cell_type": "markdown",
   "id": "f2bb8e5d-7d84-4a59-aa5d-e942ffa22aa8",
   "metadata": {},
   "source": [
    "Again, use matplotlib to visualize an example of downsampling"
   ]
  },
  {
   "cell_type": "code",
   "id": "ac111d5c-dfa2-44e2-9a57-f2f4c2caff2d",
   "metadata": {
    "ExecuteTime": {
     "end_time": "2025-04-26T09:50:57.008116Z",
     "start_time": "2025-04-26T09:50:56.791885Z"
    }
   },
   "source": [
    "### YOUR CODE HERE ###\n",
    "def preprocess(tsr):\n",
    "    return nn.functional.avg_pool2d(tsr, kernel_size=4)\n",
    "print(preprocess(trainset[0][0]).size())\n",
    "plt.imshow(preprocess(trainset[0][0]).permute(1, 2, 0))\n",
    "plt.show()"
   ],
   "outputs": [
    {
     "name": "stdout",
     "output_type": "stream",
     "text": [
      "torch.Size([1, 7, 7])\n"
     ]
    },
    {
     "data": {
      "text/plain": [
       "<Figure size 640x480 with 1 Axes>"
      ],
      "image/png": "[encoded data removed]"
     },
     "metadata": {},
     "output_type": "display_data"
    }
   ],
   "execution_count": 9
  },
  {
   "cell_type": "code",
   "id": "6aa4adcb-be17-4f0d-ba9f-4da062227230",
   "metadata": {
    "id": "2v3GqEPU3z0L",
    "ExecuteTime": {
     "end_time": "2025-04-26T10:16:59.250788Z",
     "start_time": "2025-04-26T10:16:59.245888Z"
    }
   },
   "source": [
    "### YOUR ( MODEL / PREPROCESSING ) CODE HERE ###\n",
    "class LinearModel(nn.Module):\n",
    "    def __init__(self):\n",
    "        super().__init__()\n",
    "        self.model = nn.Sequential(\n",
    "            nn.Flatten(),\n",
    "            #1 x 7 x 7 = 49\n",
    "            nn.Linear(49, 10),\n",
    "        )\n",
    "\n",
    "    def forward(self,x):\n",
    "        logits = self.model(x)\n",
    "        return logits"
   ],
   "outputs": [],
   "execution_count": 69
  },
  {
   "cell_type": "markdown",
   "id": "e5becae4-e27f-43ed-a1c5-ced8c16f4cac",
   "metadata": {
    "id": "qeWZ7DeNMG20"
   },
   "source": [
    "## A.2 - Loss and optimizer\n",
    "Create a cross entropy loss."
   ]
  },
  {
   "cell_type": "code",
   "id": "a85b789e",
   "metadata": {
    "id": "a85b789e",
    "ExecuteTime": {
     "end_time": "2025-04-26T10:17:00.753163Z",
     "start_time": "2025-04-26T10:17:00.747881Z"
    }
   },
   "source": [
    "### YOUR CODE HERE ###\n",
    "criterion = nn.CrossEntropyLoss()"
   ],
   "outputs": [],
   "execution_count": 70
  },
  {
   "cell_type": "markdown",
   "id": "43aec31b-3d2b-4b29-ad85-e88a6e25660a",
   "metadata": {
    "id": "ZCnlsh9iMhx_"
   },
   "source": [
    "## A.3 - Training and testing loops\n",
    "Finally, create the functions `train(model, epoch, preprocess, optimizer)` and `test(model)` to train (one epoch with SGD and a learning rate of $10^{-3}$) and test your model."
   ]
  },
  {
   "metadata": {
    "ExecuteTime": {
     "end_time": "2025-04-26T10:17:01.717506Z",
     "start_time": "2025-04-26T10:17:01.713108Z"
    }
   },
   "cell_type": "code",
   "source": [
    "batch_size = 256\n",
    "trainloader = torch.utils.data.DataLoader(trainset, batch_size=batch_size, shuffle=True, num_workers=2)\n",
    "testloader = torch.utils.data.DataLoader(testset, batch_size=batch_size, shuffle=False, num_workers=2)\n"
   ],
   "id": "b456fa7581c1868",
   "outputs": [],
   "execution_count": 71
  },
  {
   "metadata": {
    "ExecuteTime": {
     "end_time": "2025-04-26T10:17:03.026420Z",
     "start_time": "2025-04-26T10:17:02.870958Z"
    }
   },
   "cell_type": "code",
   "source": [
    "for batch_idx, (data, targets) in enumerate(trainloader):\n",
    "            print(preprocess(data))\n",
    "            break"
   ],
   "id": "403a9c259dff6908",
   "outputs": [
    {
     "name": "stdout",
     "output_type": "stream",
     "text": [
      "tensor([[[[0.0000, 0.0000, 0.0000,  ..., 0.1103, 0.0000, 0.0000],\n",
      "          [0.0000, 0.0000, 0.0699,  ..., 0.0167, 0.0000, 0.0000],\n",
      "          [0.0000, 0.0000, 0.5145,  ..., 0.0162, 0.0000, 0.0000],\n",
      "          ...,\n",
      "          [0.0000, 0.0027, 0.6642,  ..., 0.4456, 0.1750, 0.0000],\n",
      "          [0.0000, 0.0000, 0.1279,  ..., 0.2397, 0.0000, 0.0000],\n",
      "          [0.0000, 0.0000, 0.0000,  ..., 0.0000, 0.0000, 0.0000]]],\n",
      "\n",
      "\n",
      "        [[[0.0000, 0.0000, 0.0000,  ..., 0.0000, 0.0000, 0.0000],\n",
      "          [0.0000, 0.0000, 0.0000,  ..., 0.1020, 0.2360, 0.1377],\n",
      "          [0.0000, 0.0000, 0.0598,  ..., 0.3456, 0.2042, 0.0162],\n",
      "          ...,\n",
      "          [0.0000, 0.3331, 0.4164,  ..., 0.2054, 0.0000, 0.0000],\n",
      "          [0.0000, 0.0169, 0.2333,  ..., 0.0000, 0.0000, 0.0000],\n",
      "          [0.0000, 0.0000, 0.0000,  ..., 0.0000, 0.0000, 0.0000]]],\n",
      "\n",
      "\n",
      "        [[[0.0000, 0.0000, 0.0000,  ..., 0.0000, 0.0000, 0.0000],\n",
      "          [0.0000, 0.0000, 0.0000,  ..., 0.1890, 0.0017, 0.0000],\n",
      "          [0.0000, 0.0000, 0.3108,  ..., 0.9922, 0.1801, 0.0000],\n",
      "          ...,\n",
      "          [0.0000, 0.0000, 0.0022,  ..., 0.0613, 0.0000, 0.0000],\n",
      "          [0.0000, 0.0000, 0.1426,  ..., 0.0000, 0.0000, 0.0000],\n",
      "          [0.0000, 0.0000, 0.2588,  ..., 0.0000, 0.0000, 0.0000]]],\n",
      "\n",
      "\n",
      "        ...,\n",
      "\n",
      "\n",
      "        [[[0.0000, 0.0000, 0.0000,  ..., 0.0512, 0.0000, 0.0000],\n",
      "          [0.0000, 0.0000, 0.0000,  ..., 0.6667, 0.0000, 0.0000],\n",
      "          [0.0000, 0.0000, 0.0000,  ..., 0.8282, 0.0301, 0.0000],\n",
      "          ...,\n",
      "          [0.0000, 0.5125, 0.9444,  ..., 0.0069, 0.0000, 0.0000],\n",
      "          [0.0000, 0.0225, 0.0392,  ..., 0.0882, 0.0000, 0.0000],\n",
      "          [0.0000, 0.0000, 0.0000,  ..., 0.0000, 0.0000, 0.0000]]],\n",
      "\n",
      "\n",
      "        [[[0.0000, 0.0000, 0.0000,  ..., 0.0000, 0.0000, 0.0000],\n",
      "          [0.0000, 0.0000, 0.2613,  ..., 0.5189, 0.2953, 0.0000],\n",
      "          [0.0000, 0.0000, 0.3662,  ..., 0.2669, 0.6034, 0.0096],\n",
      "          ...,\n",
      "          [0.0000, 0.1017, 0.6441,  ..., 0.4022, 0.0000, 0.0321],\n",
      "          [0.0000, 0.1319, 0.5444,  ..., 0.5939, 0.0000, 0.0000],\n",
      "          [0.0000, 0.0000, 0.0127,  ..., 0.0385, 0.0000, 0.0000]]],\n",
      "\n",
      "\n",
      "        [[[0.0000, 0.0000, 0.0000,  ..., 0.0000, 0.0000, 0.0000],\n",
      "          [0.0000, 0.0000, 0.4235,  ..., 0.0505, 0.0000, 0.0000],\n",
      "          [0.0000, 0.0000, 0.0000,  ..., 0.4855, 0.0000, 0.0000],\n",
      "          ...,\n",
      "          [0.0000, 0.0069, 0.3571,  ..., 0.7137, 0.0025, 0.0000],\n",
      "          [0.0000, 0.0078, 0.5238,  ..., 0.1652, 0.0000, 0.0000],\n",
      "          [0.0000, 0.0000, 0.0000,  ..., 0.0000, 0.0000, 0.0000]]]])\n"
     ]
    }
   ],
   "execution_count": 72
  },
  {
   "metadata": {
    "ExecuteTime": {
     "end_time": "2025-04-26T10:17:03.217096Z",
     "start_time": "2025-04-26T10:17:03.197665Z"
    }
   },
   "cell_type": "code",
   "source": "trainset.data",
   "id": "72fd7b07e991050c",
   "outputs": [
    {
     "data": {
      "text/plain": [
       "tensor([[[0, 0, 0,  ..., 0, 0, 0],\n",
       "         [0, 0, 0,  ..., 0, 0, 0],\n",
       "         [0, 0, 0,  ..., 0, 0, 0],\n",
       "         ...,\n",
       "         [0, 0, 0,  ..., 0, 0, 0],\n",
       "         [0, 0, 0,  ..., 0, 0, 0],\n",
       "         [0, 0, 0,  ..., 0, 0, 0]],\n",
       "\n",
       "        [[0, 0, 0,  ..., 0, 0, 0],\n",
       "         [0, 0, 0,  ..., 0, 0, 0],\n",
       "         [0, 0, 0,  ..., 0, 0, 0],\n",
       "         ...,\n",
       "         [0, 0, 0,  ..., 0, 0, 0],\n",
       "         [0, 0, 0,  ..., 0, 0, 0],\n",
       "         [0, 0, 0,  ..., 0, 0, 0]],\n",
       "\n",
       "        [[0, 0, 0,  ..., 0, 0, 0],\n",
       "         [0, 0, 0,  ..., 0, 0, 0],\n",
       "         [0, 0, 0,  ..., 0, 0, 0],\n",
       "         ...,\n",
       "         [0, 0, 0,  ..., 0, 0, 0],\n",
       "         [0, 0, 0,  ..., 0, 0, 0],\n",
       "         [0, 0, 0,  ..., 0, 0, 0]],\n",
       "\n",
       "        ...,\n",
       "\n",
       "        [[0, 0, 0,  ..., 0, 0, 0],\n",
       "         [0, 0, 0,  ..., 0, 0, 0],\n",
       "         [0, 0, 0,  ..., 0, 0, 0],\n",
       "         ...,\n",
       "         [0, 0, 0,  ..., 0, 0, 0],\n",
       "         [0, 0, 0,  ..., 0, 0, 0],\n",
       "         [0, 0, 0,  ..., 0, 0, 0]],\n",
       "\n",
       "        [[0, 0, 0,  ..., 0, 0, 0],\n",
       "         [0, 0, 0,  ..., 0, 0, 0],\n",
       "         [0, 0, 0,  ..., 0, 0, 0],\n",
       "         ...,\n",
       "         [0, 0, 0,  ..., 0, 0, 0],\n",
       "         [0, 0, 0,  ..., 0, 0, 0],\n",
       "         [0, 0, 0,  ..., 0, 0, 0]],\n",
       "\n",
       "        [[0, 0, 0,  ..., 0, 0, 0],\n",
       "         [0, 0, 0,  ..., 0, 0, 0],\n",
       "         [0, 0, 0,  ..., 0, 0, 0],\n",
       "         ...,\n",
       "         [0, 0, 0,  ..., 0, 0, 0],\n",
       "         [0, 0, 0,  ..., 0, 0, 0],\n",
       "         [0, 0, 0,  ..., 0, 0, 0]]], dtype=torch.uint8)"
      ]
     },
     "execution_count": 73,
     "metadata": {},
     "output_type": "execute_result"
    }
   ],
   "execution_count": 73
  },
  {
   "metadata": {
    "ExecuteTime": {
     "end_time": "2025-04-26T10:17:03.908550Z",
     "start_time": "2025-04-26T10:17:03.897908Z"
    }
   },
   "cell_type": "code",
   "source": "trainset.data",
   "id": "89d9f70513667d61",
   "outputs": [
    {
     "data": {
      "text/plain": [
       "tensor([[[0, 0, 0,  ..., 0, 0, 0],\n",
       "         [0, 0, 0,  ..., 0, 0, 0],\n",
       "         [0, 0, 0,  ..., 0, 0, 0],\n",
       "         ...,\n",
       "         [0, 0, 0,  ..., 0, 0, 0],\n",
       "         [0, 0, 0,  ..., 0, 0, 0],\n",
       "         [0, 0, 0,  ..., 0, 0, 0]],\n",
       "\n",
       "        [[0, 0, 0,  ..., 0, 0, 0],\n",
       "         [0, 0, 0,  ..., 0, 0, 0],\n",
       "         [0, 0, 0,  ..., 0, 0, 0],\n",
       "         ...,\n",
       "         [0, 0, 0,  ..., 0, 0, 0],\n",
       "         [0, 0, 0,  ..., 0, 0, 0],\n",
       "         [0, 0, 0,  ..., 0, 0, 0]],\n",
       "\n",
       "        [[0, 0, 0,  ..., 0, 0, 0],\n",
       "         [0, 0, 0,  ..., 0, 0, 0],\n",
       "         [0, 0, 0,  ..., 0, 0, 0],\n",
       "         ...,\n",
       "         [0, 0, 0,  ..., 0, 0, 0],\n",
       "         [0, 0, 0,  ..., 0, 0, 0],\n",
       "         [0, 0, 0,  ..., 0, 0, 0]],\n",
       "\n",
       "        ...,\n",
       "\n",
       "        [[0, 0, 0,  ..., 0, 0, 0],\n",
       "         [0, 0, 0,  ..., 0, 0, 0],\n",
       "         [0, 0, 0,  ..., 0, 0, 0],\n",
       "         ...,\n",
       "         [0, 0, 0,  ..., 0, 0, 0],\n",
       "         [0, 0, 0,  ..., 0, 0, 0],\n",
       "         [0, 0, 0,  ..., 0, 0, 0]],\n",
       "\n",
       "        [[0, 0, 0,  ..., 0, 0, 0],\n",
       "         [0, 0, 0,  ..., 0, 0, 0],\n",
       "         [0, 0, 0,  ..., 0, 0, 0],\n",
       "         ...,\n",
       "         [0, 0, 0,  ..., 0, 0, 0],\n",
       "         [0, 0, 0,  ..., 0, 0, 0],\n",
       "         [0, 0, 0,  ..., 0, 0, 0]],\n",
       "\n",
       "        [[0, 0, 0,  ..., 0, 0, 0],\n",
       "         [0, 0, 0,  ..., 0, 0, 0],\n",
       "         [0, 0, 0,  ..., 0, 0, 0],\n",
       "         ...,\n",
       "         [0, 0, 0,  ..., 0, 0, 0],\n",
       "         [0, 0, 0,  ..., 0, 0, 0],\n",
       "         [0, 0, 0,  ..., 0, 0, 0]]], dtype=torch.uint8)"
      ]
     },
     "execution_count": 74,
     "metadata": {},
     "output_type": "execute_result"
    }
   ],
   "execution_count": 74
  },
  {
   "metadata": {
    "ExecuteTime": {
     "end_time": "2025-04-26T10:17:04.312499Z",
     "start_time": "2025-04-26T10:17:04.307778Z"
    }
   },
   "cell_type": "code",
   "source": "trainset.targets",
   "id": "7cc19fa30eb7e069",
   "outputs": [
    {
     "data": {
      "text/plain": [
       "tensor([5, 0, 4,  ..., 5, 6, 8])"
      ]
     },
     "execution_count": 75,
     "metadata": {},
     "output_type": "execute_result"
    }
   ],
   "execution_count": 75
  },
  {
   "cell_type": "code",
   "id": "521e5485-b676-4f73-bedc-d35c5fcfd394",
   "metadata": {
    "id": "iMXijrch3z0L",
    "ExecuteTime": {
     "end_time": "2025-04-26T10:19:52.416477Z",
     "start_time": "2025-04-26T10:19:52.411298Z"
    }
   },
   "source": [
    "\n",
    "def train(model, epoch, preprocess, optimizer):\n",
    "    ### YOUR CODE HERE ###\n",
    "    for idx_epoch in range(epoch):\n",
    "        train_accuracy = 0\n",
    "        total = 0\n",
    "        for batch_idx, (data, targets) in enumerate(trainloader):\n",
    "            optimizer.zero_grad()\n",
    "            outputs = model(preprocess(data))\n",
    "            loss = criterion(outputs, targets)\n",
    "            loss.backward()\n",
    "            optimizer.step()\n",
    "            total += data.shape[0]\n",
    "            train_accuracy += (outputs.argmax(dim=1) == targets).sum().item()\n",
    "        print(f'{idx_epoch} acc: {train_accuracy / total}')\n",
    "    return optimizer, train_accuracy / total\n",
    "\n",
    "def test(model, preprocess):\n",
    "    accuracy = 0\n",
    "    total = 0\n",
    "    for batch_idx, (data, targets) in enumerate(testloader):\n",
    "        outputs = model(preprocess(data))\n",
    "        total += data.shape[0]\n",
    "        accuracy += (outputs.argmax(dim=1) == targets).sum().item()\n",
    "    return accuracy / total"
   ],
   "outputs": [],
   "execution_count": 102
  },
  {
   "cell_type": "markdown",
   "id": "aa359382-2580-44ae-bcdb-3f18cf1f4c61",
   "metadata": {
    "id": "_t4SiXk33z0L"
   },
   "source": [
    "You should get at least 85\\% test accuracy even with only 2 epochs. We will be aiming for around 95\\% test accuracy and above."
   ]
  },
  {
   "cell_type": "code",
   "id": "6f12bf85-45c6-41d9-87f3-0601bc4b6339",
   "metadata": {
    "id": "nBmfvtl6UbUe",
    "scrolled": true,
    "ExecuteTime": {
     "end_time": "2025-04-26T10:17:14.075433Z",
     "start_time": "2025-04-26T10:17:07.706212Z"
    }
   },
   "source": [
    "### YOUR CODE HERE ###\n",
    "lmodel = LinearModel()\n",
    "train(lmodel, NUM_EPOCH, preprocess, torch.optim.AdamW(lmodel.parameters(), lr=0.1))"
   ],
   "outputs": [
    {
     "name": "stdout",
     "output_type": "stream",
     "text": [
      "0 acc: 0.85235\n",
      "1 acc: 0.88285\n"
     ]
    },
    {
     "data": {
      "text/plain": [
       "(AdamW (\n",
       " Parameter Group 0\n",
       "     amsgrad: False\n",
       "     betas: (0.9, 0.999)\n",
       "     capturable: False\n",
       "     differentiable: False\n",
       "     eps: 1e-08\n",
       "     foreach: None\n",
       "     fused: None\n",
       "     lr: 0.1\n",
       "     maximize: False\n",
       "     weight_decay: 0.01\n",
       " ),\n",
       " 0.88285)"
      ]
     },
     "execution_count": 77,
     "metadata": {},
     "output_type": "execute_result"
    }
   ],
   "execution_count": 77
  },
  {
   "metadata": {
    "ExecuteTime": {
     "end_time": "2025-04-26T10:21:06.990933Z",
     "start_time": "2025-04-26T10:21:06.363780Z"
    }
   },
   "cell_type": "code",
   "source": "test(lmodel, preprocess)",
   "id": "5f3d07f897f4345b",
   "outputs": [
    {
     "data": {
      "text/plain": [
       "0.8941"
      ]
     },
     "execution_count": 103,
     "metadata": {},
     "output_type": "execute_result"
    }
   ],
   "execution_count": 103
  },
  {
   "cell_type": "markdown",
   "id": "bf28bb4e-7178-4340-9247-f69591e86dcf",
   "metadata": {
    "id": "RrwYAMMBEUPN"
   },
   "source": [
    "## A.4 - Multi-layer perceptron (MLP)\n",
    "\n",
    "Create a class MLP that creates an MLP of given width and depth, and use it to create a 3-layer MLP of width $100$. We will assume that `width > 0` and `depth > 0`."
   ]
  },
  {
   "cell_type": "code",
   "id": "79cb6479-d475-4f0e-b0f7-fdd107d9e835",
   "metadata": {
    "colab": {
     "base_uri": "https://localhost:8080/"
    },
    "id": "e8353cd9",
    "outputId": "c7f5eeaf-0638-45c3-842e-4372d21ff712",
    "ExecuteTime": {
     "end_time": "2025-04-26T10:18:20.387767Z",
     "start_time": "2025-04-26T10:18:20.382885Z"
    }
   },
   "source": [
    "### YOUR CODE HERE ###\n",
    "class MLP(nn.Module):\n",
    "    def __init__(self, width, depth):\n",
    "        super().__init__()\n",
    "        layers = [nn.Flatten(),\n",
    "            nn.Linear(49, width), nn.ReLU()]\n",
    "        for i in range(depth - 2):\n",
    "            layers.append(nn.Linear(width, width))\n",
    "            layers.append(nn.ReLU())\n",
    "        layers.append(nn.Linear(width, 10))\n",
    "        self.model = nn.Sequential(\n",
    "            *layers\n",
    "        )\n",
    "    def forward(self,x):\n",
    "    ### YOUR CODE HERE ###\n",
    "        logits = self.model(x)\n",
    "        return logits"
   ],
   "outputs": [],
   "execution_count": 84
  },
  {
   "metadata": {
    "ExecuteTime": {
     "end_time": "2025-04-26T10:18:21.318133Z",
     "start_time": "2025-04-26T10:18:21.313988Z"
    }
   },
   "cell_type": "code",
   "source": [
    "mlp = MLP(100, 3)\n",
    "print(mlp)"
   ],
   "id": "41a31f74265d1fb8",
   "outputs": [
    {
     "name": "stdout",
     "output_type": "stream",
     "text": [
      "MLP(\n",
      "  (model): Sequential(\n",
      "    (0): Flatten(start_dim=1, end_dim=-1)\n",
      "    (1): Linear(in_features=49, out_features=100, bias=True)\n",
      "    (2): ReLU()\n",
      "    (3): Linear(in_features=100, out_features=100, bias=True)\n",
      "    (4): ReLU()\n",
      "    (5): Linear(in_features=100, out_features=10, bias=True)\n",
      "  )\n",
      ")\n"
     ]
    }
   ],
   "execution_count": 85
  },
  {
   "metadata": {
    "ExecuteTime": {
     "end_time": "2025-04-26T10:18:29.224102Z",
     "start_time": "2025-04-26T10:18:22.371103Z"
    }
   },
   "cell_type": "code",
   "source": "train(mlp, NUM_EPOCH, preprocess, torch.optim.AdamW(mlp.parameters(), lr=0.1))",
   "id": "20fc431054073776",
   "outputs": [
    {
     "name": "stdout",
     "output_type": "stream",
     "text": [
      "0 acc: 0.8057833333333333\n",
      "1 acc: 0.8816\n"
     ]
    },
    {
     "data": {
      "text/plain": [
       "(AdamW (\n",
       " Parameter Group 0\n",
       "     amsgrad: False\n",
       "     betas: (0.9, 0.999)\n",
       "     capturable: False\n",
       "     differentiable: False\n",
       "     eps: 1e-08\n",
       "     foreach: None\n",
       "     fused: None\n",
       "     lr: 0.1\n",
       "     maximize: False\n",
       "     weight_decay: 0.01\n",
       " ),\n",
       " 0.8816)"
      ]
     },
     "execution_count": 86,
     "metadata": {},
     "output_type": "execute_result"
    }
   ],
   "execution_count": 86
  },
  {
   "metadata": {
    "ExecuteTime": {
     "end_time": "2025-04-26T10:21:10.382161Z",
     "start_time": "2025-04-26T10:21:09.677263Z"
    }
   },
   "cell_type": "code",
   "source": "test(mlp, preprocess)\n",
   "id": "6dd04442d2a6e7b0",
   "outputs": [
    {
     "data": {
      "text/plain": [
       "0.9015"
      ]
     },
     "execution_count": 104,
     "metadata": {},
     "output_type": "execute_result"
    }
   ],
   "execution_count": 104
  },
  {
   "cell_type": "markdown",
   "id": "76ca5a11-93e4-47ab-81f1-e4ee3cae45c9",
   "metadata": {
    "id": "v1czyC9R3z0R"
   },
   "source": [
    "# A.5 - Deep convolutional model\n",
    "\n",
    "Write a convolutional model, with learned features.\n",
    "Use two layers, one convolutional with 8 filters of size 3x3, then take a relu and max-pool with kernel size 2, and finally flatten and add a Linear layer. You can use the identity as pre-processing function."
   ]
  },
  {
   "cell_type": "markdown",
   "id": "4933e318-5521-4bf8-b011-bdb95ed0d8b0",
   "metadata": {},
   "source": [
    "\n",
    "Here is a little animation to remind you of the sliding window principle of convolutions.\n",
    "\n",
    "![conv](https://github.com//vdumoulin/conv_arithmetic/raw/master/gif/no_padding_no_strides.gif)"
   ]
  },
  {
   "cell_type": "code",
   "id": "44c87b30-36d7-4567-b009-a41413afac5b",
   "metadata": {
    "id": "l4QOi_oe3z0R",
    "ExecuteTime": {
     "end_time": "2025-04-26T10:18:36.832540Z",
     "start_time": "2025-04-26T10:18:36.826094Z"
    }
   },
   "source": [
    "class ConvModel(torch.nn.Module):\n",
    "    def __init__(self):\n",
    "        super(ConvModel, self).__init__()\n",
    "        self.model = nn.Sequential(\n",
    "            #28 x 28 x 1\n",
    "            nn.Conv2d(in_channels=1, out_channels=8, kernel_size=3),\n",
    "            # 26 x 26 x 8\n",
    "            nn.ReLU(),\n",
    "            # 256x1352\n",
    "            nn.MaxPool2d(kernel_size=2),\n",
    "            # 13 x 13 x 8\n",
    "            nn.Flatten(),\n",
    "            # 1352\n",
    "            nn.Linear(1352, 10),\n",
    "        )\n",
    "\n",
    "    def forward(self,x):\n",
    "        ### YOUR CODE HERE ###\n",
    "        logits = self.model(x)\n",
    "        return logits\n"
   ],
   "outputs": [],
   "execution_count": 88
  },
  {
   "metadata": {
    "ExecuteTime": {
     "end_time": "2025-04-26T10:18:44.930137Z",
     "start_time": "2025-04-26T10:18:37.237470Z"
    }
   },
   "cell_type": "code",
   "source": [
    "ConvM = ConvModel()\n",
    "prepr = nn.Identity()\n",
    "train(ConvM, NUM_EPOCH, prepr, torch.optim.AdamW(ConvM.parameters(), lr=0.01))\n"
   ],
   "id": "6fbe58f5dff8695b",
   "outputs": [
    {
     "name": "stdout",
     "output_type": "stream",
     "text": [
      "0 acc: 0.9339333333333333\n",
      "1 acc: 0.97555\n"
     ]
    },
    {
     "data": {
      "text/plain": [
       "(AdamW (\n",
       " Parameter Group 0\n",
       "     amsgrad: False\n",
       "     betas: (0.9, 0.999)\n",
       "     capturable: False\n",
       "     differentiable: False\n",
       "     eps: 1e-08\n",
       "     foreach: None\n",
       "     fused: None\n",
       "     lr: 0.01\n",
       "     maximize: False\n",
       "     weight_decay: 0.01\n",
       " ),\n",
       " 0.97555)"
      ]
     },
     "execution_count": 89,
     "metadata": {},
     "output_type": "execute_result"
    }
   ],
   "execution_count": 89
  },
  {
   "metadata": {
    "ExecuteTime": {
     "end_time": "2025-04-26T10:21:21.861740Z",
     "start_time": "2025-04-26T10:21:21.213753Z"
    }
   },
   "cell_type": "code",
   "source": "test(ConvM, prepr)",
   "id": "d29047f05a76e979",
   "outputs": [
    {
     "data": {
      "text/plain": [
       "0.9787"
      ]
     },
     "execution_count": 105,
     "metadata": {},
     "output_type": "execute_result"
    }
   ],
   "execution_count": 105
  },
  {
   "metadata": {
    "ExecuteTime": {
     "end_time": "2025-04-26T10:19:07.660815Z",
     "start_time": "2025-04-26T10:18:47.997890Z"
    }
   },
   "cell_type": "code",
   "source": [
    "# With 5 epochs instead of 2\n",
    "train(ConvM, 5, prepr, torch.optim.AdamW(ConvM.parameters(), lr=0.01))"
   ],
   "id": "7d7bb9c38f350d82",
   "outputs": [
    {
     "name": "stdout",
     "output_type": "stream",
     "text": [
      "0 acc: 0.9778333333333333\n",
      "1 acc: 0.9812833333333333\n",
      "2 acc: 0.9836\n",
      "3 acc: 0.9839666666666667\n",
      "4 acc: 0.9864333333333334\n"
     ]
    },
    {
     "data": {
      "text/plain": [
       "(AdamW (\n",
       " Parameter Group 0\n",
       "     amsgrad: False\n",
       "     betas: (0.9, 0.999)\n",
       "     capturable: False\n",
       "     differentiable: False\n",
       "     eps: 1e-08\n",
       "     foreach: None\n",
       "     fused: None\n",
       "     lr: 0.01\n",
       "     maximize: False\n",
       "     weight_decay: 0.01\n",
       " ),\n",
       " 0.9864333333333334)"
      ]
     },
     "execution_count": 91,
     "metadata": {},
     "output_type": "execute_result"
    }
   ],
   "execution_count": 91
  },
  {
   "metadata": {
    "ExecuteTime": {
     "end_time": "2025-04-26T10:21:27.307529Z",
     "start_time": "2025-04-26T10:21:26.634606Z"
    }
   },
   "cell_type": "code",
   "source": "test(ConvM, prepr)\n",
   "id": "fb41a3328aa5249e",
   "outputs": [
    {
     "data": {
      "text/plain": [
       "0.9787"
      ]
     },
     "execution_count": 106,
     "metadata": {},
     "output_type": "execute_result"
    }
   ],
   "execution_count": 106
  },
  {
   "cell_type": "markdown",
   "id": "a0313eed-03ad-461d-9ddb-bb690c631149",
   "metadata": {
    "id": "pbQ1LUqf3z0R"
   },
   "source": [
    "You should be able to get around 97\\% to 98\\% accuracy with this model. Try increasing the NUM_EPOCH constant and watch what happens to test accuracy and train accuracy as training progresses further.\n",
    "\n",
    "Write a deeper convolutional model, with one convolutional layer as previously, but three linear layers with relu activations after that.\n",
    "Use `h = 100` hidden neurons. How does the test accuracy compare with the previous two-layer network ?"
   ]
  },
  {
   "cell_type": "code",
   "id": "792791e1-0514-4749-a3fb-d27eb10a1bd2",
   "metadata": {
    "id": "YM-OhC123z0R",
    "ExecuteTime": {
     "end_time": "2025-04-26T10:28:36.906448Z",
     "start_time": "2025-04-26T10:28:36.899752Z"
    }
   },
   "source": [
    "class ConvDeepModel(torch.nn.Module):\n",
    "    def __init__(self, h=100):\n",
    "        super(ConvDeepModel, self).__init__()\n",
    "        ### YOUR CODE HERE ###\n",
    "        self.model = nn.Sequential(\n",
    "            #28 x 28 x 1\n",
    "            nn.Conv2d(in_channels=1, out_channels=8, kernel_size=3),\n",
    "            # 26 x 26 x 8\n",
    "            nn.ReLU(),\n",
    "            # 256x1352\n",
    "            nn.MaxPool2d(kernel_size=2),\n",
    "            # 13 x 13 x 8\n",
    "            nn.Flatten(),\n",
    "            # 1352\n",
    "            nn.Linear(1352, h),\n",
    "            nn.ReLU(),\n",
    "            nn.Linear(h, h),\n",
    "            nn.ReLU(),\n",
    "            nn.Linear(h, h),\n",
    "            nn.ReLU(),\n",
    "            nn.Linear(h, 10),\n",
    "        )\n",
    "\n",
    "    def forward(self,x):\n",
    "        ### YOUR CODE HERE ###\n",
    "        logits = self.model(x)\n",
    "        return logits"
   ],
   "outputs": [],
   "execution_count": 126
  },
  {
   "metadata": {
    "ExecuteTime": {
     "end_time": "2025-04-26T10:28:45.794802Z",
     "start_time": "2025-04-26T10:28:37.140506Z"
    }
   },
   "cell_type": "code",
   "source": [
    "ConvDeepM = ConvDeepModel()\n",
    "prepr = nn.Identity()\n",
    "train(ConvDeepM, NUM_EPOCH, prepr, torch.optim.AdamW(ConvDeepM.parameters(), lr=0.01))"
   ],
   "id": "d1db6448b4feb075",
   "outputs": [
    {
     "name": "stdout",
     "output_type": "stream",
     "text": [
      "0 acc: 0.8982166666666667\n",
      "1 acc: 0.97555\n"
     ]
    },
    {
     "data": {
      "text/plain": [
       "(AdamW (\n",
       " Parameter Group 0\n",
       "     amsgrad: False\n",
       "     betas: (0.9, 0.999)\n",
       "     capturable: False\n",
       "     differentiable: False\n",
       "     eps: 1e-08\n",
       "     foreach: None\n",
       "     fused: None\n",
       "     lr: 0.01\n",
       "     maximize: False\n",
       "     weight_decay: 0.01\n",
       " ),\n",
       " 0.97555)"
      ]
     },
     "execution_count": 127,
     "metadata": {},
     "output_type": "execute_result"
    }
   ],
   "execution_count": 127
  },
  {
   "metadata": {
    "ExecuteTime": {
     "end_time": "2025-04-26T10:21:33.603661Z",
     "start_time": "2025-04-26T10:21:32.889192Z"
    }
   },
   "cell_type": "code",
   "source": "test(ConvDeepM, prepr)",
   "id": "8f02a07c9622dee9",
   "outputs": [
    {
     "data": {
      "text/plain": [
       "0.9708"
      ]
     },
     "execution_count": 107,
     "metadata": {},
     "output_type": "execute_result"
    }
   ],
   "execution_count": 107
  },
  {
   "cell_type": "markdown",
   "id": "46fd763b-b36a-461c-ad34-f472e62ce46d",
   "metadata": {},
   "source": [
    "## A.6 Visualisations of convolutions\n",
    "\n",
    "After training your model, let's see what features it has learned!\n",
    "\n",
    "Plot an image from the test set then plot all 8 feature maps extracted by the convolutional layer"
   ]
  },
  {
   "metadata": {
    "ExecuteTime": {
     "end_time": "2025-04-26T10:19:22.778512Z",
     "start_time": "2025-04-26T10:19:22.774120Z"
    }
   },
   "cell_type": "code",
   "source": [
    "### YOUR CODE HERE ###\n",
    "ConvDeepM.eval()"
   ],
   "id": "c4af372a41085b8b",
   "outputs": [
    {
     "data": {
      "text/plain": [
       "ConvDeepModel(\n",
       "  (model): Sequential(\n",
       "    (0): Conv2d(1, 8, kernel_size=(3, 3), stride=(1, 1))\n",
       "    (1): ReLU()\n",
       "    (2): MaxPool2d(kernel_size=2, stride=2, padding=0, dilation=1, ceil_mode=False)\n",
       "    (3): Flatten(start_dim=1, end_dim=-1)\n",
       "    (4): Linear(in_features=1352, out_features=100, bias=True)\n",
       "    (5): ReLU()\n",
       "    (6): Linear(in_features=100, out_features=100, bias=True)\n",
       "    (7): ReLU()\n",
       "    (8): Linear(in_features=100, out_features=100, bias=True)\n",
       "    (9): ReLU()\n",
       "    (10): Linear(in_features=100, out_features=10, bias=True)\n",
       "  )\n",
       ")"
      ]
     },
     "execution_count": 97,
     "metadata": {},
     "output_type": "execute_result"
    }
   ],
   "execution_count": 97
  },
  {
   "metadata": {
    "ExecuteTime": {
     "end_time": "2025-04-26T10:19:23.365658Z",
     "start_time": "2025-04-26T10:19:23.362562Z"
    }
   },
   "cell_type": "code",
   "source": [
    "feature_maps = []\n",
    "def hook_fn(module, input, output):\n",
    "    feature_maps.append(output)\n",
    "conv_layer = ConvDeepM.model[0]\n",
    "hook = conv_layer.register_forward_hook(hook_fn)"
   ],
   "id": "79c455aa039c290d",
   "outputs": [],
   "execution_count": 98
  },
  {
   "metadata": {
    "ExecuteTime": {
     "end_time": "2025-04-26T10:19:23.790798Z",
     "start_time": "2025-04-26T10:19:23.678253Z"
    }
   },
   "cell_type": "code",
   "source": [
    "data_iter = iter(testloader)\n",
    "images, labels = next(data_iter)\n",
    "_ = ConvDeepM(images)\n",
    "features = feature_maps[0].detach().cpu().numpy()"
   ],
   "id": "38d20280586c0e9c",
   "outputs": [],
   "execution_count": 99
  },
  {
   "metadata": {
    "ExecuteTime": {
     "end_time": "2025-04-26T10:19:24.879888Z",
     "start_time": "2025-04-26T10:19:23.862762Z"
    }
   },
   "cell_type": "code",
   "source": [
    "plt.figure(figsize=(8, 8))\n",
    "plt.subplot(3, 3, 1)\n",
    "plt.title(\"Base Image\")\n",
    "plt.imshow(images[0].squeeze(), cmap='gray')\n",
    "plt.axis('off')\n",
    "\n",
    "for i in range(8):\n",
    "    plt.subplot(3, 3, i + 2)\n",
    "    plt.title(f\"Feature Map {i + 1}\")\n",
    "    plt.imshow(features[0, i, :, :], cmap='viridis')\n",
    "    plt.axis('off')\n",
    "\n",
    "plt.tight_layout()\n",
    "plt.show()\n",
    "\n",
    "hook.remove()"
   ],
   "id": "66d064fa5a6d34c5",
   "outputs": [
    {
     "data": {
      "text/plain": [
       "<Figure size 800x800 with 9 Axes>"
      ],
      "image/png": "[encoded data removed]"
     },
     "metadata": {},
     "output_type": "display_data"
    }
   ],
   "execution_count": 100
  },
  {
   "cell_type": "markdown",
   "id": "dc457ad1-3240-4ffb-a8f3-98c6554dfce5",
   "metadata": {
    "id": "riu_K1at3z0R"
   },
   "source": [
    "# Part B - Residual models\n",
    "\n",
    "## B.1 - Residual blocks\n",
    "\n",
    "Write a residual block with two linear layers to learn a function $\\mathbb{R}^d \\to \\mathbb{R}^d$ with $h < d$ hidden neurons.\n",
    "Write a convolutional residual block with the same idea. What hyperparameter acts as the number of hidden neurons in convolutional blocks ?"
   ]
  },
  {
   "cell_type": "code",
   "id": "aec298d4-4372-4a1f-be53-a278d051c0f6",
   "metadata": {
    "id": "gkCILVwd3z0R",
    "ExecuteTime": {
     "end_time": "2025-04-26T10:21:37.754353Z",
     "start_time": "2025-04-26T10:21:37.748972Z"
    }
   },
   "source": [
    "class ResidualBlock(torch.nn.Module):\n",
    "    def __init__(self, d, h):\n",
    "        super(ResidualBlock, self).__init__()\n",
    "        ### YOUR CODE HERE ###\n",
    "        self.model = nn.Sequential(\n",
    "            nn.Linear(d, h),\n",
    "            nn.ReLU(),\n",
    "            nn.Linear(h, d),\n",
    "            nn.ReLU()\n",
    "        )\n",
    "    def forward(self,x):\n",
    "        ### YOUR CODE HERE ###\n",
    "        logits = self.model(x)\n",
    "        return logits + x"
   ],
   "outputs": [],
   "execution_count": 108
  },
  {
   "metadata": {
    "ExecuteTime": {
     "end_time": "2025-04-26T10:21:42.408181Z",
     "start_time": "2025-04-26T10:21:42.404171Z"
    }
   },
   "cell_type": "code",
   "source": [
    "class ConvResidualBlock(torch.nn.Module):\n",
    "    def __init__(self, d, h):\n",
    "        super(ConvResidualBlock, self).__init__()\n",
    "        ### YOUR CODE HERE ###\n",
    "        self.model = nn.Sequential(\n",
    "            nn.Conv2d(in_channels=d, out_channels=h, kernel_size=3, padding=1),\n",
    "            nn.ReLU(),\n",
    "            nn.Conv2d(in_channels=h, out_channels=d, kernel_size=3, padding=1),\n",
    "            nn.ReLU()\n",
    "        )\n",
    "    def forward(self,x):\n",
    "        ### YOUR CODE HERE ###\n",
    "        logits = self.model(x)\n",
    "        return logits + x"
   ],
   "id": "be7d5be2161140fe",
   "outputs": [],
   "execution_count": 109
  },
  {
   "cell_type": "markdown",
   "id": "8cc0097d-269c-40f4-b182-bdc79bd5c512",
   "metadata": {
    "id": "huKWOvVc3z0S"
   },
   "source": [
    "## B.2 - Stacking residual blocks\n",
    "\n",
    "Use a single convolution layer, followed by a relu and max-pool, then an arbitrary number of residual blocks as defined above, and finish with a linear layer. Can you match the accuracy of the two-layer network ? Can you exceed it ? What happens when you increase the number of layers ? Look at the details of the ResNet architecture on the lecture's slides to get an idea of how to increase the number of hidden neurons and the number of layers. One of the strengths of ResNets was there relatively low number of parameters compared\n",
    "to a multi-layer architecture like that of the previous section, does this show in your experiments ?"
   ]
  },
  {
   "metadata": {
    "ExecuteTime": {
     "end_time": "2025-04-26T10:42:22.451403Z",
     "start_time": "2025-04-26T10:42:22.445165Z"
    }
   },
   "cell_type": "code",
   "source": [
    "class ResidualModel(torch.nn.Module):\n",
    "    def __init__(self, l, h, k=3, out=8):\n",
    "        super(ResidualModel, self).__init__()\n",
    "        ### YOUR CODE HERE ###\n",
    "        layers = [nn.Conv2d(in_channels=1, out_channels=out, kernel_size=k),\n",
    "            nn.ReLU(),\n",
    "            nn.MaxPool2d(kernel_size=2),\n",
    "            nn.Flatten()]\n",
    "        for i in range(l):\n",
    "            layers.append(ResidualBlock(1352, h))\n",
    "        layers.append(nn.Linear(1352, 10))\n",
    "        self.model = nn.Sequential(\n",
    "            *layers\n",
    "        )\n",
    "\n",
    "    def forward(self,x):\n",
    "        ### YOUR CODE HERE ###\n",
    "        logits = self.model(x)\n",
    "        return logits"
   ],
   "id": "7538876cabb3784c",
   "outputs": [],
   "execution_count": 151
  },
  {
   "metadata": {
    "ExecuteTime": {
     "end_time": "2025-04-26T10:42:48.104541Z",
     "start_time": "2025-04-26T10:42:23.243197Z"
    }
   },
   "cell_type": "code",
   "source": [
    "ResidM = ResidualModel(4, 256)\n",
    "prepr = nn.Identity()\n",
    "train(ResidM, NUM_EPOCH, prepr, torch.optim.AdamW(ResidM.parameters(), lr=0.01))"
   ],
   "id": "d329edc65d4de1e3",
   "outputs": [
    {
     "name": "stdout",
     "output_type": "stream",
     "text": [
      "0 acc: 0.8124833333333333\n",
      "1 acc: 0.9557\n"
     ]
    },
    {
     "data": {
      "text/plain": [
       "(AdamW (\n",
       " Parameter Group 0\n",
       "     amsgrad: False\n",
       "     betas: (0.9, 0.999)\n",
       "     capturable: False\n",
       "     differentiable: False\n",
       "     eps: 1e-08\n",
       "     foreach: None\n",
       "     fused: None\n",
       "     lr: 0.01\n",
       "     maximize: False\n",
       "     weight_decay: 0.01\n",
       " ),\n",
       " 0.9557)"
      ]
     },
     "execution_count": 152,
     "metadata": {},
     "output_type": "execute_result"
    }
   ],
   "execution_count": 152
  },
  {
   "metadata": {
    "ExecuteTime": {
     "end_time": "2025-04-26T10:42:48.963637Z",
     "start_time": "2025-04-26T10:42:48.111190Z"
    }
   },
   "cell_type": "code",
   "source": "test(ResidM, prepr)",
   "id": "fcc226ec89a9b39a",
   "outputs": [
    {
     "data": {
      "text/plain": [
       "0.9676"
      ]
     },
     "execution_count": 153,
     "metadata": {},
     "output_type": "execute_result"
    }
   ],
   "execution_count": 153
  },
  {
   "cell_type": "code",
   "id": "bf0d4de4-11e8-490c-8262-064b3e841fa5",
   "metadata": {
    "id": "U4gg9uWg3z0S",
    "ExecuteTime": {
     "end_time": "2025-04-26T10:42:49.037004Z",
     "start_time": "2025-04-26T10:42:49.032898Z"
    }
   },
   "source": [
    "class ConvResidualModel(torch.nn.Module):\n",
    "    def __init__(self, l, h, k=3, out=8):\n",
    "        super(ConvResidualModel, self).__init__()\n",
    "        ### YOUR CODE HERE ###\n",
    "\n",
    "        layers = [nn.Conv2d(in_channels=1, out_channels=out, kernel_size=k),\n",
    "            nn.ReLU(),\n",
    "            nn.MaxPool2d(kernel_size=2)]\n",
    "        for i in range(l):\n",
    "            layers.append(ConvResidualBlock(out, h))\n",
    "        layers.append(nn.Flatten())\n",
    "        layers.append(nn.Linear(1352, 10))\n",
    "        self.model = nn.Sequential(\n",
    "            *layers\n",
    "        )\n",
    "    def forward(self,x):\n",
    "        ### YOUR CODE HERE ###\n",
    "        logits = self.model(x)\n",
    "        return logits"
   ],
   "outputs": [],
   "execution_count": 154
  },
  {
   "metadata": {
    "ExecuteTime": {
     "end_time": "2025-04-26T10:45:41.298136Z",
     "start_time": "2025-04-26T10:45:22.908694Z"
    }
   },
   "cell_type": "code",
   "source": [
    "ConvResidM = ConvResidualModel(4, 4)\n",
    "prepr = nn.Identity()\n",
    "train(ConvResidM, NUM_EPOCH, prepr, torch.optim.AdamW(ConvResidM.parameters(), lr=0.01))"
   ],
   "id": "28cc2773a3da395e",
   "outputs": [
    {
     "name": "stdout",
     "output_type": "stream",
     "text": [
      "0 acc: 0.8871\n",
      "1 acc: 0.9635333333333334\n"
     ]
    },
    {
     "data": {
      "text/plain": [
       "(AdamW (\n",
       " Parameter Group 0\n",
       "     amsgrad: False\n",
       "     betas: (0.9, 0.999)\n",
       "     capturable: False\n",
       "     differentiable: False\n",
       "     eps: 1e-08\n",
       "     foreach: None\n",
       "     fused: None\n",
       "     lr: 0.01\n",
       "     maximize: False\n",
       "     weight_decay: 0.01\n",
       " ),\n",
       " 0.9635333333333334)"
      ]
     },
     "execution_count": 158,
     "metadata": {},
     "output_type": "execute_result"
    }
   ],
   "execution_count": 158
  },
  {
   "metadata": {
    "ExecuteTime": {
     "end_time": "2025-04-26T10:45:42.084740Z",
     "start_time": "2025-04-26T10:45:41.303498Z"
    }
   },
   "cell_type": "code",
   "source": "test(ConvResidM, prepr)",
   "id": "732055f97bb232e3",
   "outputs": [
    {
     "data": {
      "text/plain": [
       "0.9726"
      ]
     },
     "execution_count": 159,
     "metadata": {},
     "output_type": "execute_result"
    }
   ],
   "execution_count": 159
  },
  {
   "cell_type": "markdown",
   "id": "df418703-b1e1-4276-8ba7-dd5622c7b7cd",
   "metadata": {
    "id": "2nes_ZtBoBu0"
   },
   "source": [
    "# Part C - Reimplementing loss functions\n",
    "\n",
    "## C.0 - Combining losses\n",
    "First, we recall that, for a batch of score vectors $s\\in\\mathbb{R}^{n\\times C}$ and true labels $y\\in[1,C]^n$, **cross entropy** is defined as\n",
    "$$CE(s, y) = -\\frac{1}{n}\\sum_{i=1}^n \\log\\left( \\mbox{softmax}(s_i)_{y_i} \\right)$$\n",
    "\n",
    "where $\\mbox{softmax}(x)_i = \\frac{e^{x_i}}{\\sum_{j=1}^n e^{x_j}}$ is the probability associated to class $i\\in[1,C]$ for a score vector $x\\in\\mathbb{R}^C$.\n",
    "\n",
    "Let's try to compute cross-entropy in three different ways (see the [documentation](https://pytorch.org/docs/stable/generated/torch.nn.CrossEntropyLoss.html)):\n",
    "1. Using `nn.CrossEntropyLoss()`.\n",
    "2. Using `nn.NLLLoss()` and `nn.LogSoftmax()`.\n",
    "3. Using `nn.NLLLoss()` and `nn.Softmax()`.\n",
    "\n",
    "Check that the output is the same for all three methods on Gaussian random scores `torch.randn(n_batch, n_classes)` and random labels `torch.randint(0, n_classes, [n_batch])`, where `n_batch=4` and `n_classes=10`. Note that the scores are real valued vectors while the labels are integers corresponding to the true class."
   ]
  },
  {
   "metadata": {
    "ExecuteTime": {
     "end_time": "2025-04-26T12:04:56.368611Z",
     "start_time": "2025-04-26T12:04:56.355537Z"
    }
   },
   "cell_type": "code",
   "source": [
    "n_batch=200\n",
    "n_classes=10\n",
    "outputs = torch.randn(n_batch, n_classes)\n",
    "labels = torch.randint(0, n_classes, [n_batch])"
   ],
   "id": "3c42d17ff05e3251",
   "outputs": [],
   "execution_count": 303
  },
  {
   "cell_type": "code",
   "id": "e1b6c172",
   "metadata": {
    "id": "e1b6c172",
    "ExecuteTime": {
     "end_time": "2025-04-26T12:04:56.605741Z",
     "start_time": "2025-04-26T12:04:56.597993Z"
    }
   },
   "source": [
    "### YOUR CODE HERE ###\n",
    "criterion = nn.CrossEntropyLoss()\n",
    "print(f\"CrossEntropyLoss: {criterion(outputs, labels)}\")\n",
    "log = nn.LogSoftmax(dim=1)\n",
    "criterion = nn.NLLLoss()\n",
    "print(f\"nn.NLLLoss() and nn.LogSoftmax(): {criterion(log(outputs), labels)}\")\n",
    "soft = nn.Softmax(dim=1)\n",
    "criterion = nn.NLLLoss()\n",
    "print(f\"nn.NLLLoss() and nn.Softmax(): {criterion(torch.log(soft(outputs)), labels)}\")"
   ],
   "outputs": [
    {
     "name": "stdout",
     "output_type": "stream",
     "text": [
      "CrossEntropyLoss: 2.821464776992798\n",
      "nn.NLLLoss() and nn.LogSoftmax(): 2.821464776992798\n",
      "nn.NLLLoss() and nn.Softmax(): 2.821464776992798\n"
     ]
    }
   ],
   "execution_count": 304
  },
  {
   "cell_type": "markdown",
   "id": "bba900c6-f7b2-4179-a2f1-f1eede4b6697",
   "metadata": {
    "id": "TWKaTBVd5ftN"
   },
   "source": [
    "## C.1 - Re-implementation\n",
    "Now re-implement cross-entropy using base functions (`torch.log`, `torch.exp`, `torch.sum`, etc...). Verify that your function returns the same value as Pytorch's implementation."
   ]
  },
  {
   "metadata": {
    "ExecuteTime": {
     "end_time": "2025-04-26T12:08:27.438941Z",
     "start_time": "2025-04-26T12:08:27.427060Z"
    }
   },
   "cell_type": "code",
   "source": [
    "def ce(logits, targets):\n",
    "    log_prob = torch.log(torch.exp(logits) / torch.sum(torch.exp(logits), dim=1, keepdim=True))\n",
    "    sum = 0\n",
    "    it = 0\n",
    "    for batch in log_prob:\n",
    "        sum += batch[targets[it]]\n",
    "        it += 1\n",
    "    return - sum / outputs.size()[0]"
   ],
   "id": "2dc532b3fd2ece1f",
   "outputs": [],
   "execution_count": 323
  },
  {
   "metadata": {
    "ExecuteTime": {
     "end_time": "2025-04-26T12:05:02.184995Z",
     "start_time": "2025-04-26T12:05:02.164719Z"
    }
   },
   "cell_type": "code",
   "source": [
    "print(f\"My CrossEntropyLoss: {ce(outputs, labels)}\")\n",
    "criterion = nn.CrossEntropyLoss()\n",
    "print(f\"CrossEntropyLoss: {criterion(outputs, labels)}\")"
   ],
   "id": "6733b7fdd331f00",
   "outputs": [
    {
     "name": "stdout",
     "output_type": "stream",
     "text": [
      "my CrossEntropyLoss: 2.8214638233184814\n",
      "CrossEntropyLoss: 2.821464776992798\n"
     ]
    }
   ],
   "execution_count": 306
  },
  {
   "cell_type": "markdown",
   "id": "011ec13a-330a-4073-99b9-2eb9dd42d1f8",
   "metadata": {
    "id": "OFG0QfKN7WtO"
   },
   "source": [
    " ## C.2 - Stability analysis\n",
    "Softmax probabilities can be relatively unstable due to their use of exponentials. Pytorch implementations thus usually use log probas or logits to avoid overflows or floating point errors. Test all methods (including your own) on Gaussian random scores of standard deviation equal to $100$. Which methods are stable? Why? Is it an issue in practice?"
   ]
  },
  {
   "cell_type": "code",
   "id": "741771f5-864d-446a-b654-3b4f5a2598ca",
   "metadata": {
    "ExecuteTime": {
     "end_time": "2025-04-26T12:06:08.451881Z",
     "start_time": "2025-04-26T12:06:08.448826Z"
    }
   },
   "source": [
    "### YOUR CODE HERE ###\n",
    "n_batch=200\n",
    "n_classes=10\n",
    "outputs = torch.randn(n_batch, n_classes)*100\n",
    "labels = torch.randint(0, n_classes, [n_batch])"
   ],
   "outputs": [],
   "execution_count": 321
  },
  {
   "metadata": {
    "ExecuteTime": {
     "end_time": "2025-04-26T12:08:29.568005Z",
     "start_time": "2025-04-26T12:08:29.559158Z"
    }
   },
   "cell_type": "code",
   "source": [
    "criterion = nn.CrossEntropyLoss()\n",
    "print(f\"CrossEntropyLoss: {criterion(outputs, labels)}\")\n",
    "log = nn.LogSoftmax(dim=1)\n",
    "criterion = nn.NLLLoss()\n",
    "print(f\"nn.NLLLoss() and nn.LogSoftmax(): {criterion(log(outputs), labels)}\")\n",
    "soft = nn.Softmax(dim=1)\n",
    "criterion = nn.NLLLoss()\n",
    "print(f\"nn.NLLLoss() and nn.Softmax(): {criterion(torch.log(soft(outputs)), labels)}\")\n",
    "print(f\"My CrossEntropyLoss: {ce(outputs, labels)}\")"
   ],
   "id": "d12177e634c96e40",
   "outputs": [
    {
     "name": "stdout",
     "output_type": "stream",
     "text": [
      "CrossEntropyLoss: 143.06582641601562\n",
      "nn.NLLLoss() and nn.LogSoftmax(): 143.06582641601562\n",
      "nn.NLLLoss() and nn.Softmax(): inf\n",
      "My CrossEntropyLoss: nan\n"
     ]
    }
   ],
   "execution_count": 324
  },
  {
   "cell_type": "markdown",
   "id": "5ecaaf7c-b21f-4e18-ac53-1a77adbc60bf",
   "metadata": {
    "id": "Y3y4BfwbBIGy"
   },
   "source": [
    "Re-implement a stable version of cross-entropy."
   ]
  },
  {
   "cell_type": "code",
   "id": "83d00dab-a37e-48da-880f-81f10efdc133",
   "metadata": {
    "ExecuteTime": {
     "end_time": "2025-04-26T12:24:09.338201Z",
     "start_time": "2025-04-26T12:24:09.334030Z"
    }
   },
   "source": [
    "def stable_ce(logits, targets):\n",
    "    ### YOUR CODE HERE ###\n",
    "    logits = logits - logits.max(dim=1, keepdim=True).values\n",
    "    log_prob = logits - torch.log(torch.sum(torch.exp(logits), dim=1, keepdim=True))\n",
    "    sum = 0\n",
    "    it = 0\n",
    "    for batch in log_prob:\n",
    "        sum += batch[targets[it]]\n",
    "        it += 1\n",
    "    return - sum / outputs.size()[0]"
   ],
   "outputs": [],
   "execution_count": 338
  },
  {
   "metadata": {
    "ExecuteTime": {
     "end_time": "2025-04-26T12:24:09.569011Z",
     "start_time": "2025-04-26T12:24:09.559770Z"
    }
   },
   "cell_type": "code",
   "source": [
    "criterion = nn.CrossEntropyLoss()\n",
    "print(f\"CrossEntropyLoss: {criterion(outputs, labels)}\")\n",
    "log = nn.LogSoftmax(dim=1)\n",
    "criterion = nn.NLLLoss()\n",
    "print(f\"nn.NLLLoss() and nn.LogSoftmax(): {criterion(log(outputs), labels)}\")\n",
    "soft = nn.Softmax(dim=1)\n",
    "criterion = nn.NLLLoss()\n",
    "print(f\"nn.NLLLoss() and nn.Softmax(): {criterion(torch.log(soft(outputs)), labels)}\")\n",
    "print(f\"My CrossEntropyLoss: {stable_ce(outputs, labels)}\")"
   ],
   "id": "602e2c72470436f1",
   "outputs": [
    {
     "name": "stdout",
     "output_type": "stream",
     "text": [
      "CrossEntropyLoss: 143.06582641601562\n",
      "nn.NLLLoss() and nn.LogSoftmax(): 143.06582641601562\n",
      "nn.NLLLoss() and nn.Softmax(): inf\n",
      "My CrossEntropyLoss: 143.06585693359375\n"
     ]
    }
   ],
   "execution_count": 339
  },
  {
   "metadata": {},
   "cell_type": "code",
   "outputs": [],
   "execution_count": null,
   "source": "",
   "id": "7e5ccbb9bf1cd46"
  }
 ],
 "metadata": {
  "kernelspec": {
   "display_name": "Python 3 (ipykernel)",
   "language": "python",
   "name": "python3"
  },
  "language_info": {
   "codemirror_mode": {
    "name": "ipython",
    "version": 3
   },
   "file_extension": ".py",
   "mimetype": "text/x-python",
   "name": "python",
   "nbconvert_exporter": "python",
   "pygments_lexer": "ipython3",
   "version": "3.10.15"
  }
 },
 "nbformat": 4,
 "nbformat_minor": 5
}
